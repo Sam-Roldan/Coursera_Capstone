{
 "cells": [
  {
   "cell_type": "markdown",
   "metadata": {},
   "source": [
    "# Introduction:"
   ]
  },
  {
   "cell_type": "markdown",
   "metadata": {},
   "source": [
    "New York City is a global hub of business and commerce, as a center for banking and finance, retailing, world trade, transportation, tourism, real estate, new media, traditional media, advertising, legal services, accountancy, insurance, theater, fashion, and the arts in the United States; while Silicon Alley, metonymous for New York's broad-spectrum high technology sphere, continues to expand. The Port of New York and New Jersey is also a major economic engine, handling record cargo volume. New York City, is the most densely populated city in the United States, the city is the center of the New York metropolitan area, the largest metropolitan area in the world by urban landmass. It is an environment that provides lot of business opportunities."
   ]
  },
  {
   "cell_type": "markdown",
   "metadata": {},
   "source": [
    "## Business Problem:"
   ]
  },
  {
   "cell_type": "markdown",
   "metadata": {},
   "source": [
    "New York is the most densely populated City in the United States with 2019 estimates of over 8.4 Million people. It is also a major tourist attraction seeing upwards of 60 Million tourists each year. This makes it the perfect place to open a pizza restaurant due to the fast paced lifestyle and booming nightlife of New York Residents and tourists. New York is a competitive markets so a new business venture or expansion needs to be thought out carefully. \n",
    "\n",
    "My objective will be to find a suitable neighborhood in the city to open a new restaurant based on various facts to include population, demographics, saturated markets and density of nearby venues."
   ]
  },
  {
   "cell_type": "code",
   "execution_count": null,
   "metadata": {},
   "outputs": [],
   "source": []
  }
 ],
 "metadata": {
  "kernelspec": {
   "display_name": "Python",
   "language": "python",
   "name": "conda-env-python-py"
  },
  "language_info": {
   "codemirror_mode": {
    "name": "ipython",
    "version": 3
   },
   "file_extension": ".py",
   "mimetype": "text/x-python",
   "name": "python",
   "nbconvert_exporter": "python",
   "pygments_lexer": "ipython3",
   "version": "3.6.10"
  }
 },
 "nbformat": 4,
 "nbformat_minor": 4
}
