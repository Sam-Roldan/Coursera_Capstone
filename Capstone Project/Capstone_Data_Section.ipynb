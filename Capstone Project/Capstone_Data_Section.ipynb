{
 "cells": [
  {
   "cell_type": "markdown",
   "metadata": {},
   "source": [
    "# DATA:"
   ]
  },
  {
   "cell_type": "markdown",
   "metadata": {},
   "source": [
    "## Source: New York City will be used as the area for this project"
   ]
  },
  {
   "cell_type": "markdown",
   "metadata": {},
   "source": [
    "### Data from three different areas will be compiled as labeled below to find a prospective area for opening a new restaurant."
   ]
  },
  {
   "cell_type": "markdown",
   "metadata": {},
   "source": [
    "***Data 1:***  \n",
    "I will use a New York City Neighborhood dataset from 2014 that is free from the NYU website at https://geo.nyu.edu/catalog/nyu_2451_34572. This data provides information on the five boroughs and neighborhoods contained within for all of NYC and includes latitude and longitude information."
   ]
  },
  {
   "cell_type": "markdown",
   "metadata": {},
   "source": [
    "***Data 2:***   \n",
    "My analysis will include information from the following wikipedia pages to scrape for Population, Demographic, Cuisine and Restaurant Rating Data. \n",
    "  \n",
    "**1. https://en.wikipedia.org/wiki/New_York_City**  \n",
    "**2. https://en.wikipedia.org/wiki/Portal:New_York_City**  \n",
    "**3. https://en.wikipedia.org/wiki/Economy_of_New_York_City**  \n",
    "**4. https://en.wikipedia.org/wiki/Cuisine_of_New_York_City**  \n",
    "**5. https://en.wikipedia.org/wiki/List_of_Michelin_starred_restaurants_in_New_York_City**"
   ]
  },
  {
   "cell_type": "markdown",
   "metadata": {},
   "source": [
    "***Data 3:***   \n",
    "I will use __Data 1__ as the reference for my input into the __Foursquare API__ and then leverage that data to find the best location to open a new restaurant in NYC."
   ]
  },
  {
   "cell_type": "code",
   "execution_count": null,
   "metadata": {},
   "outputs": [],
   "source": []
  }
 ],
 "metadata": {
  "kernelspec": {
   "display_name": "Python",
   "language": "python",
   "name": "conda-env-python-py"
  },
  "language_info": {
   "codemirror_mode": {
    "name": "ipython",
    "version": 3
   },
   "file_extension": ".py",
   "mimetype": "text/x-python",
   "name": "python",
   "nbconvert_exporter": "python",
   "pygments_lexer": "ipython3",
   "version": "3.6.10"
  }
 },
 "nbformat": 4,
 "nbformat_minor": 4
}
